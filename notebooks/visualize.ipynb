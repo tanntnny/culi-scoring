{
 "cells": [
  {
   "cell_type": "code",
   "execution_count": null,
   "id": "4b8a6dcb",
   "metadata": {},
   "outputs": [],
   "source": [
    "import os\n",
    "import json\n",
    "\n",
    "import pandas as pd\n",
    "import matplotlib.pyplot as plt\n",
    "import seaborn as sns\n",
    "\n",
    "from sklearn.metrics import confusion_matrix"
   ]
  },
  {
   "cell_type": "code",
   "execution_count": null,
   "id": "761fbf24",
   "metadata": {},
   "outputs": [],
   "source": [
    "path = \"/Users/tanny/Documents/Projects/CULI Scoring/saves/\"\n",
    "cefr_label_path = \"/Users/tanny/Documents/Projects/CULI Scoring/main/assets/cefr_label.csv\""
   ]
  },
  {
   "cell_type": "code",
   "execution_count": null,
   "id": "842ddf6e",
   "metadata": {},
   "outputs": [],
   "source": [
    "metrics = []\n",
    "predictions = []\n",
    "\n",
    "for file in os.listdir(path):\n",
    "    if file.endswith(\"metrics.json\"):\n",
    "        metrics.append(os.path.join(path, file))\n",
    "    elif file.endswith(\"predictions.json\"):\n",
    "        predictions.append(os.path.join(path, file))"
   ]
  },
  {
   "cell_type": "code",
   "execution_count": null,
   "id": "81f90d39",
   "metadata": {},
   "outputs": [],
   "source": [
    "def read_json(json_path) -> pd.DataFrame:\n",
    "    with open(json_path, \"r\") as f:\n",
    "        return pd.DataFrame(json.load(f))\n",
    "\n",
    "def read_csv(csv_path) -> pd.DataFrame:\n",
    "    return pd.read_csv(csv_path)\n",
    "\n",
    "def visualize_metrics(metrics: str) -> None:\n",
    "    plt.style.use('dark_background')\n",
    "    data = read_json(metrics)\n",
    "    # Plot Loss\n",
    "    plt.figure(figsize=(10, 5))\n",
    "    plt.plot(data[\"epoch\"], data[\"train_loss\"], label=\"Train Loss\")\n",
    "    plt.plot(data[\"epoch\"], data[\"val_loss\"], label=\"Val Loss\")\n",
    "    plt.xlabel(\"Epoch\")\n",
    "    plt.ylabel(\"Loss\")\n",
    "    plt.title(f\"Loss Over Epochs: {os.path.basename(metrics)}\")\n",
    "    plt.legend()\n",
    "    plt.show()\n",
    "        # Plot Accuracy\n",
    "    plt.figure(figsize=(10, 5))\n",
    "    plt.plot(data[\"epoch\"], data[\"train_acc\"], label=\"Train Accuracy\")\n",
    "    plt.plot(data[\"epoch\"], data[\"val_acc\"], label=\"Val Accuracy\")\n",
    "    plt.xlabel(\"Epoch\")\n",
    "    plt.ylabel(\"Accuracy\")\n",
    "    plt.title(f\"Accuracy Over Epochs: {os.path.basename(metrics)}\")\n",
    "    plt.legend()\n",
    "    plt.show()\n",
    "\n",
    "def get_max_score(metrics: str, column: str) -> float:\n",
    "    max_score = 0.0\n",
    "    data = read_json(metrics)\n",
    "    if column in data.columns:\n",
    "        max_score = max(max_score, data[column].max())\n",
    "    return max_score\n",
    "\n",
    "def visualize_confusion_matrix(predictions: str, true_col: str, pred_col: str, label_map: pd.DataFrame) -> None:\n",
    "    data = read_json(predictions)\n",
    "\n",
    "    key_to_label = dict(zip(label_map[\"key\"], label_map[\"value\"]))\n",
    "    data[true_col] = data[true_col].map(key_to_label)\n",
    "    data[pred_col] = data[pred_col].map(key_to_label)\n",
    "\n",
    "    y_true = data[true_col]\n",
    "    y_pred = data[pred_col]\n",
    "\n",
    "    labels = list(label_map[\"value\"])\n",
    "    cm = confusion_matrix(y_true, y_pred, labels=labels)\n",
    "    plt.figure(figsize=(10, 8))\n",
    "    sns.heatmap(cm, annot=True, fmt='d', cmap='Blues', xticklabels=labels, yticklabels=labels)\n",
    "    plt.title(f\"Confusion Matrix for {true_col} vs {pred_col} in {os.path.basename(predictions)}\")\n",
    "    plt.xlabel(\"Predicted\")\n",
    "    plt.ylabel(\"True\")\n",
    "    plt.show()"
   ]
  },
  {
   "cell_type": "code",
   "execution_count": null,
   "id": "b3586f50",
   "metadata": {},
   "outputs": [],
   "source": [
    "for i in metrics:\n",
    "    visualize_metrics(i)\n",
    "    max_score = get_max_score(i, \"val_acc\")\n",
    "    print(f\"Max validation accuracy for {os.path.basename(i)}: {max_score:.4f}\")"
   ]
  },
  {
   "cell_type": "code",
   "execution_count": null,
   "id": "63107db3",
   "metadata": {},
   "outputs": [],
   "source": [
    "cefr_label_map = pd.DataFrame({\n",
    "    \"key\": [0, 1, 2, 3],\n",
    "    \"value\": [\"A2_0\", \"B1_1\", \"B1_2\", \"B2_0\"]\n",
    "})\n",
    "\n",
    "for i in predictions:\n",
    "    visualize_confusion_matrix(i, \"y_true\", \"y_pred\", cefr_label_map)\n",
    "    max_score = get_max_score(i, \"y_pred\")\n",
    "    print(f\"Max prediction score for {os.path.basename(i)}: {max_score:.4f}\")"
   ]
  },
  {
   "cell_type": "code",
   "execution_count": null,
   "id": "21db82e2",
   "metadata": {},
   "outputs": [],
   "source": []
  }
 ],
 "metadata": {
  "kernelspec": {
   "display_name": "ai",
   "language": "python",
   "name": "python3"
  },
  "language_info": {
   "codemirror_mode": {
    "name": "ipython",
    "version": 3
   },
   "file_extension": ".py",
   "mimetype": "text/x-python",
   "name": "python",
   "nbconvert_exporter": "python",
   "pygments_lexer": "ipython3",
   "version": "3.10.9"
  }
 },
 "nbformat": 4,
 "nbformat_minor": 5
}
