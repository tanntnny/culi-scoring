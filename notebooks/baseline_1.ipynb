{
 "cells": [
  {
   "cell_type": "markdown",
   "id": "a289514f",
   "metadata": {},
   "source": [
    "# Settings & Configutations"
   ]
  },
  {
   "cell_type": "code",
   "execution_count": null,
   "id": "aef77354",
   "metadata": {},
   "outputs": [],
   "source": [
    "from google.cloud import storage\n",
    "import os\n",
    "\n",
    "# Models\n",
    "from transformers import Wav2Vec2Model"
   ]
  },
  {
   "cell_type": "markdown",
   "id": "b16d6117",
   "metadata": {},
   "source": [
    "# Google Storage"
   ]
  },
  {
   "cell_type": "code",
   "execution_count": null,
   "id": "d5c560b6",
   "metadata": {},
   "outputs": [],
   "source": [
    "client = storage.Client(project='chulaworks')\n",
    "bucket = client.bucket('dwn-chula')\n",
    "blobs = bucket.list_blobs(prefix='datasets/ICNALE/SM')"
   ]
  },
  {
   "cell_type": "code",
   "execution_count": null,
   "id": "cc84c63b",
   "metadata": {},
   "outputs": [],
   "source": [
    "# Overview the files in the bucket\n",
    "\n",
    "extensions = dict()\n",
    "duped_count = 0\n",
    "\n",
    "for blob in blobs:\n",
    "    blob_name = blob.name\n",
    "    # extension\n",
    "    name, ext = os.path.splitext(blob_name)\n",
    "    if ext not in extensions:\n",
    "        extensions[ext] = 0\n",
    "    extensions[ext] += 1\n",
    "    # duped files\n",
    "    if name[-1] == \")\":\n",
    "        duped_count += 1\n",
    "\n",
    "for ext, count in extensions.items():\n",
    "    print(f\"{ext}\\t:\\t{count}\")\n",
    "print(\"----------------------------------------\")\n",
    "print(f\"Total duped files\\t:\\t{duped_count}\")"
   ]
  },
  {
   "cell_type": "markdown",
   "id": "64b61bdd",
   "metadata": {},
   "source": [
    "# Preprocessing"
   ]
  },
  {
   "cell_type": "code",
   "execution_count": null,
   "id": "495b7ba8",
   "metadata": {},
   "outputs": [],
   "source": [
    "# Download files from the bucket\n",
    "\n",
    "def download_blobs(bucket, prefix, destination_folder):\n",
    "    \"\"\"\n",
    "    Download all blobs with the given prefix from the bucket to the destination folder.\n",
    "    \"\"\"\n",
    "    blobs = bucket.list_blobs(prefix=prefix)\n",
    "    os.makedirs(destination_folder, exist_ok=True)\n",
    "    for blob in blobs:\n",
    "        local_path = os.path.join(destination_folder, os.path.relpath(blob.name, prefix))\n",
    "        os.makedirs(os.path.dirname(local_path), exist_ok=True)\n",
    "        blob.download_to_filename(local_path)\n",
    "        print(f\"Downloaded {blob.name} to {local_path}\")"
   ]
  },
  {
   "cell_type": "markdown",
   "id": "2db42ec3",
   "metadata": {},
   "source": [
    "# Pipeline"
   ]
  },
  {
   "cell_type": "code",
   "execution_count": null,
   "id": "ee3cd880",
   "metadata": {},
   "outputs": [],
   "source": [
    "model_wav2vec = Wav2Vec2Model.from_pretrained(\"facebook/wav2vec2-base\")"
   ]
  },
  {
   "cell_type": "markdown",
   "id": "aabfe16e",
   "metadata": {},
   "source": [
    "# Evaluation"
   ]
  },
  {
   "cell_type": "markdown",
   "id": "5390b494",
   "metadata": {},
   "source": []
  }
 ],
 "metadata": {
  "kernelspec": {
   "display_name": "ai",
   "language": "python",
   "name": "python3"
  },
  "language_info": {
   "codemirror_mode": {
    "name": "ipython",
    "version": 3
   },
   "file_extension": ".py",
   "mimetype": "text/x-python",
   "name": "python",
   "nbconvert_exporter": "python",
   "pygments_lexer": "ipython3",
   "version": "3.10.9"
  }
 },
 "nbformat": 4,
 "nbformat_minor": 5
}
